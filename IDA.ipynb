{
 "cells": [
  {
   "cell_type": "markdown",
   "metadata": {},
   "source": [
    "### Importing necessary libaries \n",
    "###### Calling the whole directory and storing the '.txt' files"
   ]
  },
  {
   "cell_type": "code",
   "execution_count": 242,
   "metadata": {},
   "outputs": [],
   "source": [
    "import numpy as np\n",
    "import pandas as pd\n",
    "import json\n",
    "import os\n",
    "import re\n",
    "file=[]\n",
    "for root, dirs, files in os.walk(r\"C:\\Users\\Angshuman Bardhan\\Desktop\\IDA\\Assess - Angshuman\\Assess - Angshuman\"):\n",
    "    for i in files:\n",
    "        file.append(os.path.join(root, i))"
   ]
  },
  {
   "cell_type": "markdown",
   "metadata": {},
   "source": [
    "##### Neglecting the Readme.txt file"
   ]
  },
  {
   "cell_type": "code",
   "execution_count": 243,
   "metadata": {},
   "outputs": [],
   "source": [
    "path=[]\n",
    "for j in file:\n",
    "    if j[-10:]!='README.txt':\n",
    "        path.append(j)\n",
    "    else:\n",
    "        pass"
   ]
  },
  {
   "cell_type": "markdown",
   "metadata": {},
   "source": [
    "### Functions for each feature of file "
   ]
  },
  {
   "cell_type": "markdown",
   "metadata": {},
   "source": [
    "### 1. File Content Extractor"
   ]
  },
  {
   "cell_type": "code",
   "execution_count": 244,
   "metadata": {},
   "outputs": [],
   "source": [
    "def ext(p):\n",
    "    f1=open(p, encoding=\"utf8\")\n",
    "    arr=[]\n",
    "    for x in f1:\n",
    "        arr.append(x.rstrip())\n",
    "    for i in range(len(arr)):\n",
    "        if arr[i]=='':\n",
    "            arr[i]=\"0\"\n",
    "    res = [] \n",
    "    for ii in arr: \n",
    "        if ii not in res:\n",
    "            res.append(ii)\n",
    "    res.remove('0')\n",
    "    return(res)"
   ]
  },
  {
   "cell_type": "markdown",
   "metadata": {},
   "source": [
    "### 2. Transaction ID Extractor"
   ]
  },
  {
   "cell_type": "code",
   "execution_count": 245,
   "metadata": {},
   "outputs": [],
   "source": [
    "def trans(res):\n",
    "    a=[]\n",
    "    for i in range(len(res)):\n",
    "        s = res[i]\n",
    "        match = re.search(r'\\bTransaction\\b',s)\n",
    "        if match:\n",
    "            s=res[i]\n",
    "            n=re.findall('\\d+',s)\n",
    "            if len(n)==0:\n",
    "                a.append('Nil')\n",
    "            else:\n",
    "                a.append(n[0])\n",
    "            break\n",
    "        else:\n",
    "            pass\n",
    "    return(a)"
   ]
  },
  {
   "cell_type": "markdown",
   "metadata": {},
   "source": [
    "### 3. Borrower Name Extractor"
   ]
  },
  {
   "cell_type": "code",
   "execution_count": 246,
   "metadata": {},
   "outputs": [],
   "source": [
    "def borrow(res):\n",
    "    a=[]\n",
    "    for i in range(len(res)):\n",
    "        s = res[i]\n",
    "        match = re.search(r'\\bBorrower Name\\b',s)\n",
    "        if match:\n",
    "            s=res[i]\n",
    "            l=s.split(':')\n",
    "            a.append(l[1])\n",
    "            break\n",
    "        else:\n",
    "            pass\n",
    "        \n",
    "    return(a)"
   ]
  },
  {
   "cell_type": "markdown",
   "metadata": {},
   "source": [
    "### 4. Address Extractor"
   ]
  },
  {
   "cell_type": "code",
   "execution_count": 290,
   "metadata": {},
   "outputs": [],
   "source": [
    "def address(res):\n",
    "    a=[]\n",
    "    for i in range(len(res)):\n",
    "        s = res[i]\n",
    "        match = re.search(r'\\bAddress\\b',s)\n",
    "        if match:\n",
    "            s=res[i]\n",
    "            l=s.split(':')\n",
    "            a.append(l[1])\n",
    "            break\n",
    "        else:\n",
    "            pass\n",
    "        \n",
    "    return(a)"
   ]
  },
  {
   "cell_type": "markdown",
   "metadata": {},
   "source": [
    "### 5. Deeds Extractor"
   ]
  },
  {
   "cell_type": "code",
   "execution_count": 291,
   "metadata": {},
   "outputs": [],
   "source": [
    "def deeds(res):\n",
    "    a=[]\n",
    "    for i in range(len(res)):\n",
    "        s = res[i]\n",
    "        match = re.search(r'\\bDeeds\\b',s)\n",
    "        if match:\n",
    "            s=res[i]\n",
    "            l=s.split(':')\n",
    "            a.append(l[2])\n",
    "            break\n",
    "        else:\n",
    "            pass\n",
    "        \n",
    "    return(a)"
   ]
  },
  {
   "cell_type": "markdown",
   "metadata": {},
   "source": [
    "### 6. Tax Amount Extractor"
   ]
  },
  {
   "cell_type": "code",
   "execution_count": 328,
   "metadata": {},
   "outputs": [],
   "source": [
    "def tax(res):\n",
    "    a=[]\n",
    "    for i in range(len(res)):\n",
    "        s = res[i]\n",
    "        match = re.search(r'\\bLast Amount of Transfer Tax\\b',s)\n",
    "        if match:\n",
    "            s=res[i]\n",
    "            l=re.findall(\"\\d+\\.\\d+\", s)\n",
    "            a.append(l)\n",
    "            break\n",
    "        else:\n",
    "            pass\n",
    "        \n",
    "    return(a)"
   ]
  },
  {
   "cell_type": "markdown",
   "metadata": {},
   "source": [
    "### 7. County Extractor"
   ]
  },
  {
   "cell_type": "code",
   "execution_count": 362,
   "metadata": {},
   "outputs": [],
   "source": [
    "def county(res):\n",
    "    a=''\n",
    "    for i in range(len(res)):\n",
    "        s = res[i]\n",
    "        match = re.search(r'\\bCounty\\b',s)\n",
    "        if match:\n",
    "            s=res[i]\n",
    "            l=s.split(' ')\n",
    "            a=l[1]+' '+l[2]\n",
    "            break\n",
    "        else:\n",
    "            pass\n",
    "        \n",
    "    return(a)"
   ]
  },
  {
   "cell_type": "markdown",
   "metadata": {},
   "source": [
    "### Forming Details"
   ]
  },
  {
   "cell_type": "code",
   "execution_count": 363,
   "metadata": {},
   "outputs": [],
   "source": [
    "tran=[]\n",
    "b=[]\n",
    "ad=[]\n",
    "dd=[]\n",
    "t=[]\n",
    "c=[]\n",
    "for i in range(len(path)):\n",
    "    tran.append(trans(ext(path[i]))[0])\n",
    "    b.append(borrow(ext(path[i]))[0])\n",
    "    b[i]=b[i].split('_')[0]\n",
    "    ad.append(address(ext(path[i])))\n",
    "    dd.append(deeds(ext(path[i])))\n",
    "    t.append(tax(ext(path[i])))\n",
    "    c.append(county(ext(path[i])))\n",
    "for j in range(len(ad)):\n",
    "    if ad[j]==[]:\n",
    "        ad[j]=\"No Address Info\"\n",
    "for j in range(len(ad)):\n",
    "    if t[j]==[[]]:\n",
    "        t[j]=\"No Transfer\""
   ]
  },
  {
   "cell_type": "markdown",
   "metadata": {},
   "source": [
    "### Creating a Dataframe"
   ]
  },
  {
   "cell_type": "code",
   "execution_count": 376,
   "metadata": {},
   "outputs": [],
   "source": [
    "f1=[tran[0],b[0],ad[0],dd[0][0],t[0][0][0],c[0]]\n",
    "f2=[tran[1],b[1],ad[1][0],dd[1][0],t[1][0][0],c[1]]\n",
    "f3=[tran[2],b[2],ad[2][0],dd[2][0],t[2][0][0],c[2]]\n",
    "f4=[tran[3],b[3],ad[3][0],dd[3][0],t[3][0][0],c[3]]\n",
    "f5=[tran[4],b[4],ad[4][0],dd[4][0],t[4],c[4]]\n",
    "data= {'Feature':['Transaction ID','Borrower Name','Address','Deeds','Last Amount of Transfer Tax','County'],'File 1':f1,'File 2':f2,'File 3':f3,'File 4':f4,'File 5':f5} \n",
    "df= pd.DataFrame(data2)"
   ]
  },
  {
   "cell_type": "code",
   "execution_count": 378,
   "metadata": {},
   "outputs": [
    {
     "data": {
      "text/html": [
       "<div>\n",
       "<style scoped>\n",
       "    .dataframe tbody tr th:only-of-type {\n",
       "        vertical-align: middle;\n",
       "    }\n",
       "\n",
       "    .dataframe tbody tr th {\n",
       "        vertical-align: top;\n",
       "    }\n",
       "\n",
       "    .dataframe thead th {\n",
       "        text-align: right;\n",
       "    }\n",
       "</style>\n",
       "<table border=\"1\" class=\"dataframe\">\n",
       "  <thead>\n",
       "    <tr style=\"text-align: right;\">\n",
       "      <th></th>\n",
       "      <th>Feature</th>\n",
       "      <th>File 1</th>\n",
       "      <th>File 2</th>\n",
       "      <th>File 3</th>\n",
       "      <th>File 4</th>\n",
       "      <th>File 5</th>\n",
       "    </tr>\n",
       "  </thead>\n",
       "  <tbody>\n",
       "    <tr>\n",
       "      <th>0</th>\n",
       "      <td>Transaction ID</td>\n",
       "      <td>8611116</td>\n",
       "      <td>Nil</td>\n",
       "      <td>5236822</td>\n",
       "      <td>3611891</td>\n",
       "      <td>1456666</td>\n",
       "    </tr>\n",
       "    <tr>\n",
       "      <th>1</th>\n",
       "      <td>Borrower Name</td>\n",
       "      <td>GeoKul Standard LLC, a Delaware Limited Liabi...</td>\n",
       "      <td>JOSEPH BOSSE</td>\n",
       "      <td>Roger, Koren</td>\n",
       "      <td>Clark Roger</td>\n",
       "      <td>Rajloom Mora and Muhammed Mora</td>\n",
       "    </tr>\n",
       "    <tr>\n",
       "      <th>2</th>\n",
       "      <td>Address</td>\n",
       "      <td>No Address Info</td>\n",
       "      <td>- 918 PALMER LANE</td>\n",
       "      <td>12 East Legotown #400</td>\n",
       "      <td>734 Ronley Road</td>\n",
       "      <td>545 Mcdowell Farm Trace, Maryetta, GA 30011</td>\n",
       "    </tr>\n",
       "    <tr>\n",
       "      <th>3</th>\n",
       "      <td>Deeds</td>\n",
       "      <td>Benjamin Franklin and Julia Robert, as joint ...</td>\n",
       "      <td>ALERSF BABAY</td>\n",
       "      <td>700 Low Raye, LLC</td>\n",
       "      <td>Daniella Fobbier</td>\n",
       "      <td>Nathan W. Cary and Ariana E. Cary</td>\n",
       "    </tr>\n",
       "    <tr>\n",
       "      <th>4</th>\n",
       "      <td>Last Amount of Transfer Tax</td>\n",
       "      <td>439.90</td>\n",
       "      <td>110.00</td>\n",
       "      <td>000.00</td>\n",
       "      <td>41.50</td>\n",
       "      <td>No Transfer</td>\n",
       "    </tr>\n",
       "    <tr>\n",
       "      <th>5</th>\n",
       "      <td>County</td>\n",
       "      <td>Fulton Land</td>\n",
       "      <td>COBB Land</td>\n",
       "      <td>Fulton Land</td>\n",
       "      <td>Bartow Land</td>\n",
       "      <td>Cobb Land</td>\n",
       "    </tr>\n",
       "  </tbody>\n",
       "</table>\n",
       "</div>"
      ],
      "text/plain": [
       "                       Feature  \\\n",
       "0               Transaction ID   \n",
       "1                Borrower Name   \n",
       "2                      Address   \n",
       "3                        Deeds   \n",
       "4  Last Amount of Transfer Tax   \n",
       "5                       County   \n",
       "\n",
       "                                              File 1              File 2  \\\n",
       "0                                            8611116                 Nil   \n",
       "1   GeoKul Standard LLC, a Delaware Limited Liabi...        JOSEPH BOSSE   \n",
       "2                                    No Address Info   - 918 PALMER LANE   \n",
       "3   Benjamin Franklin and Julia Robert, as joint ...        ALERSF BABAY   \n",
       "4                                             439.90              110.00   \n",
       "5                                        Fulton Land           COBB Land   \n",
       "\n",
       "                   File 3             File 4  \\\n",
       "0                 5236822            3611891   \n",
       "1           Roger, Koren         Clark Roger   \n",
       "2   12 East Legotown #400    734 Ronley Road   \n",
       "3       700 Low Raye, LLC   Daniella Fobbier   \n",
       "4                  000.00              41.50   \n",
       "5             Fulton Land        Bartow Land   \n",
       "\n",
       "                                         File 5  \n",
       "0                                       1456666  \n",
       "1               Rajloom Mora and Muhammed Mora   \n",
       "2   545 Mcdowell Farm Trace, Maryetta, GA 30011  \n",
       "3             Nathan W. Cary and Ariana E. Cary  \n",
       "4                                   No Transfer  \n",
       "5                                     Cobb Land  "
      ]
     },
     "execution_count": 378,
     "metadata": {},
     "output_type": "execute_result"
    }
   ],
   "source": [
    "df"
   ]
  },
  {
   "cell_type": "code",
   "execution_count": 380,
   "metadata": {},
   "outputs": [
    {
     "name": "stdout",
     "output_type": "stream",
     "text": [
      "{\"Feature\":{\"0\":\"Transaction ID\",\"1\":\"Borrower Name\",\"2\":\"Address\",\"3\":\"Deeds\",\"4\":\"Last Amount of Transfer Tax\",\"5\":\"County\"},\"File 1\":{\"0\":\"8611116\",\"1\":\" GeoKul Standard LLC, a Delaware Limited Liability COMPANY\",\"2\":\"No Address Info\",\"3\":\" Benjamin Franklin and Julia Robert, as joint tenants with right of survivorship _\",\"4\":\"439.90\",\"5\":\"Fulton Land\"},\"File 2\":{\"0\":\"Nil\",\"1\":\" JOSEPH BOSSE\",\"2\":\" - 918 PALMER LANE\",\"3\":\" ALERSF BABAY\",\"4\":\"110.00\",\"5\":\"COBB Land\"},\"File 3\":{\"0\":\"5236822\",\"1\":\" Roger, Koren \",\"2\":\" 12 East Legotown #400\",\"3\":\" 700 Low Raye, LLC\",\"4\":\"000.00\",\"5\":\"Fulton Land\"},\"File 4\":{\"0\":\"3611891\",\"1\":\" Clark Roger\",\"2\":\" 734 Ronley Road\",\"3\":\" Daniella Fobbier\",\"4\":\"41.50\",\"5\":\"Bartow Land\"},\"File 5\":{\"0\":\"1456666\",\"1\":\" Rajloom Mora and Muhammed Mora \",\"2\":\" 545 Mcdowell Farm Trace, Maryetta, GA 30011\",\"3\":\" Nathan W. Cary and Ariana E. Cary\",\"4\":\"No Transfer\",\"5\":\"Cobb Land\"}}\n"
     ]
    }
   ],
   "source": [
    "json = df.to_json() \n",
    "print(json) "
   ]
  },
  {
   "cell_type": "code",
   "execution_count": null,
   "metadata": {},
   "outputs": [],
   "source": []
  }
 ],
 "metadata": {
  "kernelspec": {
   "display_name": "Python 3",
   "language": "python",
   "name": "python3"
  },
  "language_info": {
   "codemirror_mode": {
    "name": "ipython",
    "version": 3
   },
   "file_extension": ".py",
   "mimetype": "text/x-python",
   "name": "python",
   "nbconvert_exporter": "python",
   "pygments_lexer": "ipython3",
   "version": "3.7.6"
  }
 },
 "nbformat": 4,
 "nbformat_minor": 4
}
